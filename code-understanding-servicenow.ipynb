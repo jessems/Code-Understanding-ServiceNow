{
 "cells": [
  {
   "cell_type": "code",
   "execution_count": 1,
   "metadata": {},
   "outputs": [
    {
     "name": "stdout",
     "output_type": "stream",
     "text": [
      "Finished writing file for record 0: Optional.js\n",
      "Finished writing file for record 1: GQ.js\n",
      "Finished writing file for record 2: Schema.js\n",
      "Finished writing file for record 3: GlideToJavaScriptMapper.js\n",
      "Finished writing file for record 4: GlideQuery.js\n",
      "Finished writing file for record 5: GlideQueryActions.js\n",
      "Finished writing file for record 6: Stream.js\n",
      "Finished writing file for record 7: GlideQueryParser.js\n",
      "Finished writing file for record 8: GlideQueryEvaluator.js\n",
      "Finished writing file for record 9: NiceError.js\n"
     ]
    }
   ],
   "source": [
    "import os\n",
    "import pysnc\n",
    "import getpass\n",
    "\n",
    "# Create the directory if it does not exist\n",
    "os.makedirs('data/sys_script_include', exist_ok=True)\n",
    "\n",
    "client = pysnc.ServiceNowClient('dev168935', ('admin', getpass.getpass('Dev Instance Password:')))\n",
    "gr = client.GlideRecord('sys_script_include')\n",
    "gr.add_query('sys_package', '16ce0f75e8e1211076da10591ad28708')\n",
    "gr.query()\n",
    "for i, r in enumerate(gr):\n",
    "    with open(f'data/sys_script_include/{r.name}.js', 'w') as f:\n",
    "        # If r.script is None, replace it with an empty string\n",
    "        name = r.script.get_value() if r.script is not None else ''\n",
    "        # Write the script to the file\n",
    "        f.write(name)\n",
    "    print(f\"Finished writing file for record {i}: {r.name}.js\")\n",
    "# end"
   ]
  },
  {
   "cell_type": "code",
   "execution_count": 2,
   "metadata": {},
   "outputs": [],
   "source": [
    "import os\n",
    "import getpass\n",
    "\n",
    "from langchain.embeddings.openai import OpenAIEmbeddings\n",
    "from langchain.vectorstores import DeepLake\n",
    "\n",
    "os.environ[\"OPENAI_API_KEY\"] = getpass.getpass(\"OpenAI API Key:\")\n",
    "activeloop_token = getpass.getpass(\"Activeloop Token:\")\n",
    "os.environ[\"ACTIVELOOP_TOKEN\"] = activeloop_token\n",
    "# end"
   ]
  },
  {
   "cell_type": "code",
   "execution_count": 3,
   "metadata": {},
   "outputs": [],
   "source": [
    "embeddings = OpenAIEmbeddings(disallowed_special=())\n",
    "# end"
   ]
  },
  {
   "cell_type": "code",
   "execution_count": 4,
   "metadata": {},
   "outputs": [],
   "source": [
    "import os\n",
    "from langchain.document_loaders import TextLoader\n",
    "\n",
    "root_dir = 'data/sys_script_include'\n",
    "docs = []\n",
    "\n",
    "# Go through each folder\n",
    "for dirpath, dirnames, filenames in os.walk(root_dir):\n",
    "    \n",
    "    # Go through each file\n",
    "    for file in filenames:\n",
    "        try: \n",
    "            # Load up the file as a doc and split\n",
    "            loader = TextLoader(os.path.join(dirpath, file), encoding='utf-8')\n",
    "            docs.extend(loader.load_and_split())\n",
    "        except Exception as e: \n",
    "            pass\n",
    "# end"
   ]
  },
  {
   "cell_type": "code",
   "execution_count": 5,
   "metadata": {},
   "outputs": [
    {
     "name": "stdout",
     "output_type": "stream",
     "text": [
      "You have 35 documents\n",
      "\n",
      "------ Start Document -----\n",
      "/**\n",
      " * GQ is a utility class intended for use with GlideQuery\n",
      " * @namespace\n",
      " */\n",
      "function GQ() {}\n",
      "\n",
      "/**\n",
      " * Returns the values of an Object\n",
      " * @param {Object} obj Object\n",
      " * @returns {Array}\n",
      " */\n",
      "GQ.values = function values(obj) {\n",
      "\tvar values = [];\n",
      "\tfor (var i in obj) {\n",
      "\t\tvalues.push(obj[i]);\n",
      "\t}\n",
      "\treturn \n"
     ]
    }
   ],
   "source": [
    "# Confirm files were chunked\n",
    "\n",
    "print (f\"You have {len(docs)} documents\\n\")\n",
    "print (\"------ Start Document -----\")\n",
    "print (docs[0].page_content[:300])\n",
    "# end"
   ]
  },
  {
   "cell_type": "code",
   "execution_count": 6,
   "metadata": {},
   "outputs": [
    {
     "name": "stderr",
     "output_type": "stream",
     "text": [
      "Created a chunk of size 1619, which is longer than the specified 1000\n",
      "Created a chunk of size 1243, which is longer than the specified 1000\n",
      "Created a chunk of size 1408, which is longer than the specified 1000\n",
      "Created a chunk of size 1402, which is longer than the specified 1000\n",
      "Created a chunk of size 1275, which is longer than the specified 1000\n",
      "Created a chunk of size 1318, which is longer than the specified 1000\n",
      "Created a chunk of size 1056, which is longer than the specified 1000\n",
      "Created a chunk of size 1293, which is longer than the specified 1000\n",
      "Created a chunk of size 1394, which is longer than the specified 1000\n",
      "Created a chunk of size 1295, which is longer than the specified 1000\n",
      "Created a chunk of size 1761, which is longer than the specified 1000\n"
     ]
    }
   ],
   "source": [
    "from langchain.text_splitter import CharacterTextSplitter\n",
    "\n",
    "text_splitter = CharacterTextSplitter(chunk_size=1000, chunk_overlap=0)\n",
    "texts = text_splitter.split_documents(docs)\n",
    "# end"
   ]
  },
  {
   "cell_type": "code",
   "execution_count": 9,
   "metadata": {},
   "outputs": [
    {
     "name": "stdout",
     "output_type": "stream",
     "text": [
      "Deep Lake Dataset in hub://jessems/glidequery already exists, loading from the storage\n"
     ]
    },
    {
     "name": "stderr",
     "output_type": "stream",
     "text": [
      "|"
     ]
    },
    {
     "name": "stdout",
     "output_type": "stream",
     "text": [
      "Dataset(path='hub://jessems/glidequery', tensors=['embedding', 'id', 'metadata', 'text'])\n",
      "\n",
      "  tensor      htype       shape      dtype  compression\n",
      "  -------    -------     -------    -------  ------- \n",
      " embedding  embedding  (276, 1536)  float32   None   \n",
      "    id        text      (276, 1)      str     None   \n",
      " metadata     json      (276, 1)      str     None   \n",
      "   text       text      (276, 1)      str     None   \n"
     ]
    },
    {
     "name": "stderr",
     "output_type": "stream",
     "text": [
      " \r"
     ]
    },
    {
     "data": {
      "text/plain": [
       "['aa54a7c6-223a-11ee-b18c-0e26fb762f4c',\n",
       " 'aa54a906-223a-11ee-b18c-0e26fb762f4c',\n",
       " 'aa54a974-223a-11ee-b18c-0e26fb762f4c',\n",
       " 'aa54a9c4-223a-11ee-b18c-0e26fb762f4c',\n",
       " 'aa54aa0a-223a-11ee-b18c-0e26fb762f4c',\n",
       " 'aa54aa5a-223a-11ee-b18c-0e26fb762f4c',\n",
       " 'aa54aaa0-223a-11ee-b18c-0e26fb762f4c',\n",
       " 'aa54ab4a-223a-11ee-b18c-0e26fb762f4c',\n",
       " 'aa54aba4-223a-11ee-b18c-0e26fb762f4c',\n",
       " 'aa54abea-223a-11ee-b18c-0e26fb762f4c',\n",
       " 'aa54ac30-223a-11ee-b18c-0e26fb762f4c',\n",
       " 'aa54ac76-223a-11ee-b18c-0e26fb762f4c',\n",
       " 'aa54acbc-223a-11ee-b18c-0e26fb762f4c',\n",
       " 'aa54acf8-223a-11ee-b18c-0e26fb762f4c',\n",
       " 'aa54ad3e-223a-11ee-b18c-0e26fb762f4c',\n",
       " 'aa54ad7a-223a-11ee-b18c-0e26fb762f4c',\n",
       " 'aa54adc0-223a-11ee-b18c-0e26fb762f4c',\n",
       " 'aa54adfc-223a-11ee-b18c-0e26fb762f4c',\n",
       " 'aa54ae42-223a-11ee-b18c-0e26fb762f4c',\n",
       " 'aa54ae92-223a-11ee-b18c-0e26fb762f4c',\n",
       " 'aa54aece-223a-11ee-b18c-0e26fb762f4c',\n",
       " 'aa54af28-223a-11ee-b18c-0e26fb762f4c',\n",
       " 'aa54af78-223a-11ee-b18c-0e26fb762f4c',\n",
       " 'aa54afb4-223a-11ee-b18c-0e26fb762f4c',\n",
       " 'aa54b00e-223a-11ee-b18c-0e26fb762f4c',\n",
       " 'aa54b04a-223a-11ee-b18c-0e26fb762f4c',\n",
       " 'aa54b090-223a-11ee-b18c-0e26fb762f4c',\n",
       " 'aa54b0cc-223a-11ee-b18c-0e26fb762f4c',\n",
       " 'aa54b112-223a-11ee-b18c-0e26fb762f4c',\n",
       " 'aa54b14e-223a-11ee-b18c-0e26fb762f4c',\n",
       " 'aa54b194-223a-11ee-b18c-0e26fb762f4c',\n",
       " 'aa54b1d0-223a-11ee-b18c-0e26fb762f4c',\n",
       " 'aa54b216-223a-11ee-b18c-0e26fb762f4c',\n",
       " 'aa54b25c-223a-11ee-b18c-0e26fb762f4c',\n",
       " 'aa54b2a2-223a-11ee-b18c-0e26fb762f4c',\n",
       " 'aa54b2de-223a-11ee-b18c-0e26fb762f4c',\n",
       " 'aa54b324-223a-11ee-b18c-0e26fb762f4c',\n",
       " 'aa54b37e-223a-11ee-b18c-0e26fb762f4c',\n",
       " 'aa54b3c4-223a-11ee-b18c-0e26fb762f4c',\n",
       " 'aa54b400-223a-11ee-b18c-0e26fb762f4c',\n",
       " 'aa54b446-223a-11ee-b18c-0e26fb762f4c',\n",
       " 'aa54b482-223a-11ee-b18c-0e26fb762f4c',\n",
       " 'aa54b4c8-223a-11ee-b18c-0e26fb762f4c',\n",
       " 'aa54b504-223a-11ee-b18c-0e26fb762f4c',\n",
       " 'aa54b54a-223a-11ee-b18c-0e26fb762f4c',\n",
       " 'aa54b586-223a-11ee-b18c-0e26fb762f4c',\n",
       " 'aa54b5c2-223a-11ee-b18c-0e26fb762f4c',\n",
       " 'aa54b608-223a-11ee-b18c-0e26fb762f4c',\n",
       " 'aa54b644-223a-11ee-b18c-0e26fb762f4c',\n",
       " 'aa54b68a-223a-11ee-b18c-0e26fb762f4c',\n",
       " 'aa54b6c6-223a-11ee-b18c-0e26fb762f4c',\n",
       " 'aa54b70c-223a-11ee-b18c-0e26fb762f4c',\n",
       " 'aa54b748-223a-11ee-b18c-0e26fb762f4c',\n",
       " 'aa54b78e-223a-11ee-b18c-0e26fb762f4c',\n",
       " 'aa54b7de-223a-11ee-b18c-0e26fb762f4c',\n",
       " 'aa54b824-223a-11ee-b18c-0e26fb762f4c',\n",
       " 'aa54b860-223a-11ee-b18c-0e26fb762f4c',\n",
       " 'aa54b8a6-223a-11ee-b18c-0e26fb762f4c',\n",
       " 'aa54b8e2-223a-11ee-b18c-0e26fb762f4c',\n",
       " 'aa54b91e-223a-11ee-b18c-0e26fb762f4c',\n",
       " 'aa54b964-223a-11ee-b18c-0e26fb762f4c',\n",
       " 'aa54b9aa-223a-11ee-b18c-0e26fb762f4c',\n",
       " 'aa54b9fa-223a-11ee-b18c-0e26fb762f4c',\n",
       " 'aa54ba4a-223a-11ee-b18c-0e26fb762f4c',\n",
       " 'aa54ba90-223a-11ee-b18c-0e26fb762f4c',\n",
       " 'aa54bad6-223a-11ee-b18c-0e26fb762f4c',\n",
       " 'aa54bb1c-223a-11ee-b18c-0e26fb762f4c',\n",
       " 'aa54bb58-223a-11ee-b18c-0e26fb762f4c',\n",
       " 'aa54bb9e-223a-11ee-b18c-0e26fb762f4c',\n",
       " 'aa54bbda-223a-11ee-b18c-0e26fb762f4c',\n",
       " 'aa54bc16-223a-11ee-b18c-0e26fb762f4c',\n",
       " 'aa54bc5c-223a-11ee-b18c-0e26fb762f4c',\n",
       " 'aa54bc98-223a-11ee-b18c-0e26fb762f4c',\n",
       " 'aa54bcde-223a-11ee-b18c-0e26fb762f4c',\n",
       " 'aa54bd1a-223a-11ee-b18c-0e26fb762f4c',\n",
       " 'aa54bd60-223a-11ee-b18c-0e26fb762f4c',\n",
       " 'aa54bd9c-223a-11ee-b18c-0e26fb762f4c',\n",
       " 'aa54bdec-223a-11ee-b18c-0e26fb762f4c',\n",
       " 'aa54be32-223a-11ee-b18c-0e26fb762f4c',\n",
       " 'aa54be6e-223a-11ee-b18c-0e26fb762f4c',\n",
       " 'aa54beaa-223a-11ee-b18c-0e26fb762f4c',\n",
       " 'aa54bef0-223a-11ee-b18c-0e26fb762f4c',\n",
       " 'aa54bf2c-223a-11ee-b18c-0e26fb762f4c',\n",
       " 'aa54bf72-223a-11ee-b18c-0e26fb762f4c',\n",
       " 'aa54bfae-223a-11ee-b18c-0e26fb762f4c',\n",
       " 'aa54bff4-223a-11ee-b18c-0e26fb762f4c',\n",
       " 'aa54c030-223a-11ee-b18c-0e26fb762f4c',\n",
       " 'aa54c076-223a-11ee-b18c-0e26fb762f4c',\n",
       " 'aa54c0bc-223a-11ee-b18c-0e26fb762f4c',\n",
       " 'aa54c0f8-223a-11ee-b18c-0e26fb762f4c',\n",
       " 'aa54c13e-223a-11ee-b18c-0e26fb762f4c',\n",
       " 'aa54c17a-223a-11ee-b18c-0e26fb762f4c',\n",
       " 'aa54c1c0-223a-11ee-b18c-0e26fb762f4c',\n",
       " 'aa54c206-223a-11ee-b18c-0e26fb762f4c',\n",
       " 'aa54c242-223a-11ee-b18c-0e26fb762f4c',\n",
       " 'aa54c288-223a-11ee-b18c-0e26fb762f4c',\n",
       " 'aa54c2c4-223a-11ee-b18c-0e26fb762f4c',\n",
       " 'aa54c30a-223a-11ee-b18c-0e26fb762f4c',\n",
       " 'aa54c346-223a-11ee-b18c-0e26fb762f4c',\n",
       " 'aa54c38c-223a-11ee-b18c-0e26fb762f4c',\n",
       " 'aa54c3c8-223a-11ee-b18c-0e26fb762f4c',\n",
       " 'aa54c40e-223a-11ee-b18c-0e26fb762f4c',\n",
       " 'aa54c44a-223a-11ee-b18c-0e26fb762f4c',\n",
       " 'aa54c49a-223a-11ee-b18c-0e26fb762f4c',\n",
       " 'aa54c4e0-223a-11ee-b18c-0e26fb762f4c',\n",
       " 'aa54c51c-223a-11ee-b18c-0e26fb762f4c',\n",
       " 'aa54c562-223a-11ee-b18c-0e26fb762f4c',\n",
       " 'aa54c59e-223a-11ee-b18c-0e26fb762f4c',\n",
       " 'aa54c5f8-223a-11ee-b18c-0e26fb762f4c',\n",
       " 'aa54c63e-223a-11ee-b18c-0e26fb762f4c',\n",
       " 'aa54c684-223a-11ee-b18c-0e26fb762f4c',\n",
       " 'aa54c6c0-223a-11ee-b18c-0e26fb762f4c',\n",
       " 'aa54c706-223a-11ee-b18c-0e26fb762f4c',\n",
       " 'aa54c742-223a-11ee-b18c-0e26fb762f4c',\n",
       " 'aa54c77e-223a-11ee-b18c-0e26fb762f4c',\n",
       " 'aa54c7c4-223a-11ee-b18c-0e26fb762f4c',\n",
       " 'aa54c800-223a-11ee-b18c-0e26fb762f4c',\n",
       " 'aa54c83c-223a-11ee-b18c-0e26fb762f4c',\n",
       " 'aa54c882-223a-11ee-b18c-0e26fb762f4c',\n",
       " 'aa54c8be-223a-11ee-b18c-0e26fb762f4c',\n",
       " 'aa54c8fa-223a-11ee-b18c-0e26fb762f4c',\n",
       " 'aa54c940-223a-11ee-b18c-0e26fb762f4c',\n",
       " 'aa54c97c-223a-11ee-b18c-0e26fb762f4c',\n",
       " 'aa54c9b8-223a-11ee-b18c-0e26fb762f4c',\n",
       " 'aa54c9f4-223a-11ee-b18c-0e26fb762f4c',\n",
       " 'aa54ca3a-223a-11ee-b18c-0e26fb762f4c',\n",
       " 'aa54ca76-223a-11ee-b18c-0e26fb762f4c',\n",
       " 'aa54cab2-223a-11ee-b18c-0e26fb762f4c',\n",
       " 'aa54caf8-223a-11ee-b18c-0e26fb762f4c',\n",
       " 'aa54cb48-223a-11ee-b18c-0e26fb762f4c',\n",
       " 'aa54cb84-223a-11ee-b18c-0e26fb762f4c',\n",
       " 'aa54cbc0-223a-11ee-b18c-0e26fb762f4c',\n",
       " 'aa54cc06-223a-11ee-b18c-0e26fb762f4c',\n",
       " 'aa54cc42-223a-11ee-b18c-0e26fb762f4c',\n",
       " 'aa54cc88-223a-11ee-b18c-0e26fb762f4c',\n",
       " 'aa54ccc4-223a-11ee-b18c-0e26fb762f4c',\n",
       " 'aa54cd00-223a-11ee-b18c-0e26fb762f4c',\n",
       " 'aa54cd46-223a-11ee-b18c-0e26fb762f4c']"
      ]
     },
     "execution_count": 9,
     "metadata": {},
     "output_type": "execute_result"
    }
   ],
   "source": [
    "# This will make an API call to Open AI\n",
    "from langchain.vectorstores import DeepLake\n",
    "\n",
    "username = \"jessems\"  # replace with your username from app.activeloop.ai\n",
    "db = DeepLake(\n",
    "    dataset_path=f\"hub://{username}/glidequery\",\n",
    "    embedding_function=embeddings,\n",
    ")\n",
    "db.add_documents(texts)\n",
    "# end"
   ]
  },
  {
   "cell_type": "code",
   "execution_count": 10,
   "metadata": {},
   "outputs": [
    {
     "name": "stdout",
     "output_type": "stream",
     "text": [
      "Deep Lake Dataset in hub://jessems/glidequery already exists, loading from the storage\n"
     ]
    }
   ],
   "source": [
    "db = DeepLake(\n",
    "    dataset_path=\"hub://jessems/glidequery\",\n",
    "    read_only=True,\n",
    "    embedding_function=embeddings,\n",
    ")\n",
    "# end"
   ]
  },
  {
   "cell_type": "code",
   "execution_count": 11,
   "metadata": {},
   "outputs": [],
   "source": [
    "retriever = db.as_retriever()\n",
    "retriever.search_kwargs[\"distance_metric\"] = \"cos\"\n",
    "retriever.search_kwargs[\"fetch_k\"] = 100\n",
    "retriever.search_kwargs[\"maximal_marginal_relevance\"] = True\n",
    "retriever.search_kwargs[\"k\"] = 10\n",
    "# end"
   ]
  },
  {
   "cell_type": "code",
   "execution_count": 38,
   "metadata": {},
   "outputs": [],
   "source": [
    "from langchain.chat_models import ChatOpenAI\n",
    "from langchain.chains import ConversationalRetrievalChain\n",
    "from langchain.prompts.prompt import PromptTemplate\n",
    "from langchain.prompts.chat import (\n",
    "    ChatPromptTemplate,\n",
    "    SystemMessagePromptTemplate,\n",
    "    HumanMessagePromptTemplate,\n",
    ")\n",
    "\n",
    "general_system_template = r\"\"\" \n",
    "Your are a professional ServiceNow dveloper. Give a detailed answers aimed at other programmers. Start your explanations off in simple terms. Respond with markdown. Include code snippets if appropriate. If you don't know the answer, simply say you don't know.\n",
    " ----\n",
    "{context}\n",
    "----\n",
    "\"\"\"\n",
    "general_user_template = \"Question:```{question}```\"\n",
    "messages = [\n",
    "            SystemMessagePromptTemplate.from_template(general_system_template),\n",
    "            HumanMessagePromptTemplate.from_template(general_user_template)\n",
    "]\n",
    "qa_prompt = ChatPromptTemplate.from_messages( messages )\n",
    "\n",
    "model = ChatOpenAI(model_name=\"gpt-4\")\n",
    "qa = ConversationalRetrievalChain.from_llm(model, retriever=retriever, combine_docs_chain_kwargs={\"prompt\": qa_prompt})\n",
    "# end"
   ]
  },
  {
   "cell_type": "code",
   "execution_count": 39,
   "metadata": {},
   "outputs": [],
   "source": [
    "chat_history = []\n",
    "\n",
    "def ask(question, chat_history):\n",
    "    result = qa({\"question\": question, \"chat_history\": chat_history})\n",
    "    chat_history.append((question, result[\"answer\"]))\n",
    "    with open('answers.md', 'a') as f:\n",
    "        f.write(f\"**Question**: {question} \\n\\n\")\n",
    "        f.write(f\"**Answer**: {result['answer']} \\n\\n\")\n",
    "# end"
   ]
  },
  {
   "cell_type": "code",
   "execution_count": 40,
   "metadata": {},
   "outputs": [],
   "source": [
    "ask(\"How does GlideQuery work?\", chat_history)"
   ]
  },
  {
   "cell_type": "code",
   "execution_count": 41,
   "metadata": {},
   "outputs": [],
   "source": [
    "ask(\"How is GlideQuery implemented that it allows for you to chain methods on top of each other?\", chat_history)"
   ]
  },
  {
   "cell_type": "code",
   "execution_count": 43,
   "metadata": {},
   "outputs": [],
   "source": [
    "ask(\"What about the toArray() method, I don't understand why we need that. What does it do?\", chat_history)"
   ]
  },
  {
   "cell_type": "code",
   "execution_count": 45,
   "metadata": {},
   "outputs": [],
   "source": [
    "ask(\"How can I use regex with GlideQuery?\", chat_history)"
   ]
  }
 ],
 "metadata": {
  "kernelspec": {
   "display_name": ".venv",
   "language": "python",
   "name": "python3"
  },
  "language_info": {
   "codemirror_mode": {
    "name": "ipython",
    "version": 3
   },
   "file_extension": ".py",
   "mimetype": "text/x-python",
   "name": "python",
   "nbconvert_exporter": "python",
   "pygments_lexer": "ipython3",
   "version": "3.11.4"
  },
  "orig_nbformat": 4
 },
 "nbformat": 4,
 "nbformat_minor": 2
}
